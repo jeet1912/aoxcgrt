{
 "cells": [
  {
   "cell_type": "code",
   "execution_count": 9,
   "metadata": {},
   "outputs": [],
   "source": [
    "import pandas as pd\n",
    "import numpy as np"
   ]
  },
  {
   "cell_type": "code",
   "execution_count": 10,
   "metadata": {},
   "outputs": [],
   "source": [
    "import pandas as pd\n",
    "import numpy as np\n",
    "\n",
    "files = ['Model', 'Model7', 'Model14', 'Model21']\n",
    "\n",
    "experiments = {\n",
    "        'Experiment': [],\n",
    "        'R2': [],\n",
    "        'MSE': [],\n",
    "        'RMSE': []\n",
    "    }\n",
    "\n"
   ]
  },
  {
   "cell_type": "code",
   "execution_count": 16,
   "metadata": {},
   "outputs": [
    {
     "name": "stdout",
     "output_type": "stream",
     "text": [
      "32\n",
      "32\n",
      "32\n",
      "                                      Experiment        R2       MSE      RMSE\n",
      "0                                 globalMR_NoLag  0.687807  0.004783  0.069158\n",
      "1                             globalMR_log_NoLag  0.825316  0.002711  0.033768\n",
      "2                            globalMR_logT_NoLag  0.976874  0.000362  0.033768\n",
      "3                            globalMR_lopo_NoLag  0.922883  0.001207  0.034741\n",
      "4  globalMR_ENGS_NoLag.alpha(1e-06)__l1Ratio(1.0  0.687912  0.004781  0.069146\n"
     ]
    }
   ],
   "source": [
    "import pandas as pd\n",
    "import numpy as np\n",
    "\n",
    "\n",
    "files = ['Model', 'Model7', 'Model14', 'Model21']\n",
    "\n",
    "experiments = {\n",
    "        'Experiment': [],\n",
    "        'R2': [],\n",
    "        'MSE': [],\n",
    "        'RMSE': []\n",
    "    }\n",
    "\n",
    "for file in files:\n",
    "    model = pd.read_csv(f'/Users/sah_eet/CIC/oxcgrt/Datasets/{file}.csv')\n",
    "    third_row = model.iloc[2]\n",
    "    \n",
    "    if file == 'Model':\n",
    "        text = 'NoLag'\n",
    "    elif '7' in file:\n",
    "        text = 'Lag7'\n",
    "    elif '14' in file:\n",
    "        text = 'Lag14'\n",
    "    elif '21' in file:\n",
    "        text = 'Lag21'\n",
    "\n",
    "    for col in model.columns:\n",
    "        if '_r2' in col:\n",
    "            experiments['Experiment'].append(col.replace('_r2', f'_{text}'))\n",
    "            experiments['R2'].append(third_row[col])\n",
    "\n",
    "\n",
    "        elif '_mse' in col:\n",
    "            experiments['MSE'].append(third_row[col])\n",
    "        else:\n",
    "            experiments['RMSE'].append(third_row[col])\n",
    "\n",
    "print(len(experiments['R2']))\n",
    "print(len(experiments['MSE']))\n",
    "print(len(experiments['RMSE']))\n",
    "\n",
    "    \n",
    "df_experiments = pd.DataFrame(experiments)\n",
    "print(df_experiments.head())"
   ]
  },
  {
   "cell_type": "code",
   "execution_count": 19,
   "metadata": {},
   "outputs": [
    {
     "name": "stdout",
     "output_type": "stream",
     "text": [
      "                                          Experiment        R2       MSE  \\\n",
      "0                                    globalMR\\_NoLag  0.687807  0.004783   \n",
      "1                               globalMR\\_log\\_NoLag  0.825316  0.002711   \n",
      "2                              globalMR\\_logT\\_NoLag  0.976874  0.000362   \n",
      "3                              globalMR\\_lopo\\_NoLag  0.922883  0.001207   \n",
      "4  globalMR\\_ENGS\\_NoLag.alpha(1e-06)\\_\\_l1Ratio(1.0  0.687912  0.004781   \n",
      "\n",
      "       RMSE  \n",
      "0  0.069158  \n",
      "1  0.033768  \n",
      "2  0.033768  \n",
      "3  0.034741  \n",
      "4  0.069146  \n"
     ]
    }
   ],
   "source": [
    "df_experiments['Experiment'] = df_experiments['Experiment'].str.replace('_', '\\_', regex=True)\n",
    "print(df_experiments.head())"
   ]
  },
  {
   "cell_type": "code",
   "execution_count": 20,
   "metadata": {},
   "outputs": [
    {
     "name": "stdout",
     "output_type": "stream",
     "text": [
      "\\begin{tabular}{lrrr}\n",
      "\\toprule\n",
      "Experiment & R2 & MSE & RMSE \\\\\n",
      "\\midrule\n",
      "globalMR\\_NoLag & 0.687807 & 0.004783 & 0.069158 \\\\\n",
      "globalMR\\_log\\_NoLag & 0.825316 & 0.002711 & 0.033768 \\\\\n",
      "globalMR\\_logT\\_NoLag & 0.976874 & 0.000362 & 0.033768 \\\\\n",
      "globalMR\\_lopo\\_NoLag & 0.922883 & 0.001207 & 0.034741 \\\\\n",
      "globalMR\\_ENGS\\_NoLag.alpha(1e-06)\\_\\_l1Ratio(1.0 & 0.687912 & 0.004781 & 0.069146 \\\\\n",
      "globalMR\\_ENGS\\_NoLag.alpha(1e-06)\\_\\_l1Ratio(1.0\\_2000 & 0.687866 & 0.004782 & 0.069151 \\\\\n",
      "globalMR\\_ENGS\\_NoLag.alpha(5e-06)\\_\\_l1Ratio(0.7\\_2000 & 0.688020 & 0.004780 & 0.069134 \\\\\n",
      "globalMR\\_Lag7 & 0.683947 & 0.004842 & 0.069584 \\\\\n",
      "globalMR\\_log\\_Lag7 & 0.806529 & 0.003003 & 0.078183 \\\\\n",
      "globalMR\\_logT\\_Lag7 & 0.974560 & 0.000398 & 0.068740 \\\\\n",
      "globalMR\\_lopo\\_Lag7 & 0.923313 & 0.001200 & 0.034644 \\\\\n",
      "globalMR\\_lopo\\_Lag7\\_5e-06 & 0.917527 & 0.001291 & 0.035927 \\\\\n",
      "globalMR\\_ENGS\\_Lag7.alpha(1e-06)\\_\\_l1Ratio(0.1 & 0.683993 & 0.004841 & 0.069579 \\\\\n",
      "globalMR\\_ENGS\\_Lag7.alpha(1e-06)\\_\\_l1Ratio(0.1\\_2000 & 0.683954 & 0.004842 & 0.069583 \\\\\n",
      "globalMR\\_Lag14 & 0.688483 & 0.004772 & 0.069083 \\\\\n",
      "globalMR\\_log\\_Lag14 & 0.778005 & 0.003445 & 0.068740 \\\\\n",
      "globalMR\\_logT\\_Lag14 & 0.976529 & 0.000367 & 0.068740 \\\\\n",
      "globalMR\\_lopo\\_Lag14 & 0.927363 & 0.001137 & 0.033717 \\\\\n",
      "globalMR\\_ENGS\\_Lag14.alpha(1e-06)\\_\\_l1Ratio(0.1 & 0.688501 & 0.004772 & 0.069081 \\\\\n",
      "globalMR\\_ENGS\\_Lag14.alpha(1e-06)\\_\\_l1Ratio(0.1\\_2000 & 0.688487 & 0.004772 & 0.069082 \\\\\n",
      "globalMR\\_Lag21 & 0.691571 & 0.004725 & 0.068740 \\\\\n",
      "globalMR\\_poly2\\_Lag21 & 0.691571 & 0.004725 & 0.068740 \\\\\n",
      "globalMR\\_poly3\\_Lag21 & 0.691571 & 0.004725 & 0.068740 \\\\\n",
      "globalMR\\_poly4\\_Lag21 & 0.691571 & 0.004725 & 0.068740 \\\\\n",
      "globalMR\\_poly5\\_Lag21 & 0.691571 & 0.004725 & 0.068740 \\\\\n",
      "globalMR\\_poly6\\_Lag21 & 0.691571 & 0.004725 & 0.068740 \\\\\n",
      "globalMR\\_poly7\\_Lag21 & 0.691571 & 0.004725 & 0.068740 \\\\\n",
      "globalMR\\_log\\_Lag21 & 0.764318 & 0.003658 & 0.068740 \\\\\n",
      "globalMR\\_logT\\_Lag21 & 0.977589 & 0.000351 & 0.068740 \\\\\n",
      "globalMR\\_lopo\\_Lag21 & 0.927143 & 0.001140 & 0.033768 \\\\\n",
      "globalMR\\_ENGS\\_Lag21.alpha(1e-05)\\_\\_l1Ratio(0.1 & 0.691569 & 0.004725 & 0.068740 \\\\\n",
      "globalMR\\_ENGS\\_Lag21.alpha(1e-05)\\_\\_l1Ratio(0.1\\_2000 & 0.691571 & 0.004725 & 0.068740 \\\\\n",
      "\\bottomrule\n",
      "\\end{tabular}\n",
      "\n"
     ]
    }
   ],
   "source": [
    "\n",
    "latex_table = df_experiments.to_latex(index=False)\n",
    "\n",
    "print(latex_table)"
   ]
  },
  {
   "cell_type": "code",
   "execution_count": 21,
   "metadata": {},
   "outputs": [],
   "source": [
    "df_experiments.to_csv('/Users/sah_eet/CIC/oxcgrt/Datasets/requiredFormat.csv')"
   ]
  },
  {
   "cell_type": "code",
   "execution_count": null,
   "metadata": {},
   "outputs": [],
   "source": []
  }
 ],
 "metadata": {
  "kernelspec": {
   "display_name": "OxCov",
   "language": "python",
   "name": "python3"
  },
  "language_info": {
   "codemirror_mode": {
    "name": "ipython",
    "version": 3
   },
   "file_extension": ".py",
   "mimetype": "text/x-python",
   "name": "python",
   "nbconvert_exporter": "python",
   "pygments_lexer": "ipython3",
   "version": "3.11.7"
  }
 },
 "nbformat": 4,
 "nbformat_minor": 2
}
