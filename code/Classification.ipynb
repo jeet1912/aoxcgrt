{
 "cells": [
  {
   "cell_type": "code",
   "execution_count": 1,
   "metadata": {},
   "outputs": [],
   "source": [
    "import matplotlib.pyplot as plt\n",
    "import seaborn as sns\n",
    "import pandas as pd\n",
    "import numpy as np\n",
    "#from google.colab.data_table import DataTable\n",
    "import geopandas as gpd\n",
    "from matplotlib.lines import Line2D\n",
    "pd.set_option('display.max_columns', 100)\n",
    "#DataTable.max_columns = 1000\n",
    "from sklearn.preprocessing import KBinsDiscretizer\n",
    "import warnings\n",
    "warnings.filterwarnings(\"ignore\")"
   ]
  },
  {
   "cell_type": "code",
   "execution_count": 2,
   "metadata": {},
   "outputs": [],
   "source": [
    "df = pd.read_csv('../Datasets/DtDs.csv')"
   ]
  },
  {
   "cell_type": "code",
   "execution_count": 3,
   "metadata": {},
   "outputs": [
    {
     "name": "stdout",
     "output_type": "stream",
     "text": [
      "<class 'pandas.core.frame.DataFrame'>\n",
      "RangeIndex: 150 entries, 0 to 149\n",
      "Data columns (total 20 columns):\n",
      " #   Column                                    Non-Null Count  Dtype  \n",
      "---  ------                                    --------------  -----  \n",
      " 0   CountryCode                               150 non-null    object \n",
      " 1   Population                                150 non-null    float64\n",
      " 2   GDP_Per_Capita                            150 non-null    float64\n",
      " 3   Hospital_Beds_Per_Thousand                150 non-null    float64\n",
      " 4   Life_Expectancy                           150 non-null    float64\n",
      " 5   StringencyIndex_Average                   150 non-null    float64\n",
      " 6   GovernmentResponseIndex_Average           150 non-null    float64\n",
      " 7   ContainmentHealthIndex_Average            150 non-null    float64\n",
      " 8   EconomicSupportIndex                      150 non-null    float64\n",
      " 9   Mortality Rate                            150 non-null    float64\n",
      " 10  H5                                        150 non-null    float64\n",
      " 11  V1                                        150 non-null    float64\n",
      " 12  V3                                        150 non-null    float64\n",
      " 13  ConfirmedCases                            150 non-null    float64\n",
      " 14  ConfirmedDeaths                           150 non-null    float64\n",
      " 15  StringencyIndex_Average_Category          150 non-null    int64  \n",
      " 16  GovernmentResponseIndex_Average_Category  150 non-null    int64  \n",
      " 17  ContainmentHealthIndex_Average_Category   150 non-null    int64  \n",
      " 18  EconomicSupportIndex_Category             150 non-null    int64  \n",
      " 19  Combined_Category                         150 non-null    object \n",
      "dtypes: float64(14), int64(4), object(2)\n",
      "memory usage: 23.6+ KB\n"
     ]
    }
   ],
   "source": [
    "df.info()"
   ]
  }
 ],
 "metadata": {
  "kernelspec": {
   "display_name": "Python 3",
   "language": "python",
   "name": "python3"
  },
  "language_info": {
   "codemirror_mode": {
    "name": "ipython",
    "version": 3
   },
   "file_extension": ".py",
   "mimetype": "text/x-python",
   "name": "python",
   "nbconvert_exporter": "python",
   "pygments_lexer": "ipython3",
   "version": "3.11.7"
  }
 },
 "nbformat": 4,
 "nbformat_minor": 2
}
