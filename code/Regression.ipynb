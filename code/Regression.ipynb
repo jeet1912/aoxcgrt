{
 "cells": [
  {
   "cell_type": "code",
   "execution_count": 1,
   "metadata": {},
   "outputs": [],
   "source": [
    "import matplotlib.pyplot as plt\n",
    "import seaborn as sns\n",
    "import pandas as pd\n",
    "import numpy as np\n",
    "#from google.colab.data_table import DataTable\n",
    "import geopandas as gpd\n",
    "from matplotlib.lines import Line2D\n",
    "pd.set_option('display.max_columns', 100)\n",
    "#DataTable.max_columns = 1000\n",
    "from sklearn.preprocessing import KBinsDiscretizer\n",
    "import warnings\n",
    "warnings.filterwarnings(\"ignore\")"
   ]
  },
  {
   "cell_type": "code",
   "execution_count": 2,
   "metadata": {},
   "outputs": [],
   "source": [
    "df = pd.read_csv('../Datasets/CleanedDS.csv')"
   ]
  },
  {
   "cell_type": "code",
   "execution_count": 3,
   "metadata": {},
   "outputs": [
    {
     "name": "stdout",
     "output_type": "stream",
     "text": [
      "<class 'pandas.core.frame.DataFrame'>\n",
      "RangeIndex: 161263 entries, 0 to 161262\n",
      "Data columns (total 19 columns):\n",
      " #   Column                           Non-Null Count   Dtype  \n",
      "---  ------                           --------------   -----  \n",
      " 0   CountryCode                      161263 non-null  object \n",
      " 1   Date                             161263 non-null  object \n",
      " 2   ConfirmedCases                   161263 non-null  float64\n",
      " 3   ConfirmedDeaths                  161263 non-null  float64\n",
      " 4   MajorityVaccinated               161263 non-null  object \n",
      " 5   StringencyIndex_Average          161263 non-null  float64\n",
      " 6   GovernmentResponseIndex_Average  161263 non-null  float64\n",
      " 7   ContainmentHealthIndex_Average   161263 non-null  float64\n",
      " 8   EconomicSupportIndex             161263 non-null  float64\n",
      " 9   Population                       161263 non-null  float64\n",
      " 10  GDP_Per_Capita                   161263 non-null  float64\n",
      " 11  Life_Expectancy                  161263 non-null  float64\n",
      " 12  Hospital_Beds_Per_Thousand       161263 non-null  float64\n",
      " 13  Mortality Rate                   161263 non-null  float64\n",
      " 14  H5                               161263 non-null  float64\n",
      " 15  V1                               161263 non-null  int64  \n",
      " 16  V3                               161263 non-null  int64  \n",
      " 17  Mortality_Rate_7day_MA           160363 non-null  float64\n",
      " 18  ConfirmedCases_7day_MA           161263 non-null  float64\n",
      "dtypes: float64(14), int64(2), object(3)\n",
      "memory usage: 23.4+ MB\n"
     ]
    }
   ],
   "source": [
    "df.info()"
   ]
  }
 ],
 "metadata": {
  "kernelspec": {
   "display_name": "Python 3",
   "language": "python",
   "name": "python3"
  },
  "language_info": {
   "codemirror_mode": {
    "name": "ipython",
    "version": 3
   },
   "file_extension": ".py",
   "mimetype": "text/x-python",
   "name": "python",
   "nbconvert_exporter": "python",
   "pygments_lexer": "ipython3",
   "version": "3.11.7"
  }
 },
 "nbformat": 4,
 "nbformat_minor": 2
}
